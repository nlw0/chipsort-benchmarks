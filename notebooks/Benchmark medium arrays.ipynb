{
 "cells": [
  {
   "cell_type": "code",
   "execution_count": 1,
   "metadata": {},
   "outputs": [],
   "source": [
    "using BenchmarkTools\n",
    "using Unrolled\n",
    "\n",
    "using SIMD\n",
    "\n",
    "using ChipSort"
   ]
  },
  {
   "cell_type": "code",
   "execution_count": null,
   "metadata": {},
   "outputs": [],
   "source": []
  },
  {
   "cell_type": "code",
   "execution_count": 2,
   "metadata": {},
   "outputs": [
    {
     "data": {
      "text/plain": [
       "run_bench_base (generic function with 1 method)"
      ]
     },
     "execution_count": 2,
     "metadata": {},
     "output_type": "execute_result"
    }
   ],
   "source": [
    "function run_bench_mine(T, ::Val{C}, ::Val{N}, ::Val{L}) where {C, N, L}\n",
    "    data = rand(T, C*N*L)\n",
    "    stat = @benchmark chipsort_medium($data, Val($C), Val($N), Val($L))\n",
    "    stat\n",
    "end\n",
    "\n",
    "function run_bench_base(T, ::Val{C}, ::Val{N}, ::Val{L}) where {C, N, L}\n",
    "    data = rand(T, C*N*L)\n",
    "    stat = @benchmark sort($data)\n",
    "    stat\n",
    "end"
   ]
  },
  {
   "cell_type": "code",
   "execution_count": 3,
   "metadata": {},
   "outputs": [
    {
     "name": "stdout",
     "output_type": "stream",
     "text": [
      "chip Int32 1024 8 8 68140.0\n",
      "juli Int32 1024 8 8 20487.0\n",
      "chip Int32 256 4 4 42045.0\n",
      "juli Int32 256 4 4 1692.0\n",
      "chip Int32 64 2 2 38615.0\n",
      "juli Int32 64 2 2 336.0765765765766\n",
      "chip Int32 512 8 8 23428.0\n",
      "juli Int32 512 8 8 3786.75\n",
      "chip Int32 128 4 4 18717.0\n",
      "juli Int32 128 4 4 688.0326797385621\n",
      "chip Int32 32 2 2 19788.0\n",
      "juli Int32 32 2 2 170.83428571428573\n",
      "chip Int32 256 8 8 16077.0\n",
      "juli Int32 256 8 8 1675.9\n",
      "chip Int32 64 4 4 12671.0\n",
      "juli Int32 64 4 4 319.1525423728813\n",
      "chip Int32 16 2 2 12064.0\n",
      "juli Int32 16 2 2 110.62679955703211\n",
      "chip Int32 128 8 8 11845.0\n",
      "juli Int32 128 8 8 694.3525641025641\n",
      "chip Int32 32 4 4 10792.0\n",
      "juli Int32 32 4 4 172.865\n",
      "chip Int32 8 2 2 11174.0\n",
      "juli Int32 8 2 2 61.907120743034056\n",
      "chip "
     ]
    },
    {
     "data": {
      "text/plain": [
       "24-element Array{ExpRun,1}:\n",
       " \n",
       " \n",
       " \n",
       " \n",
       " \n",
       " \n",
       " \n",
       " \n",
       " \n",
       " \n",
       " \n",
       " \n",
       " \n",
       " \n",
       " \n",
       " \n",
       " \n",
       " \n",
       " \n",
       " \n",
       " \n",
       " \n",
       " \n",
       " "
      ]
     },
     "execution_count": 3,
     "metadata": {},
     "output_type": "execute_result"
    },
    {
     "name": "stdout",
     "output_type": "stream",
     "text": [
      "Int32 1024 8 8 68140.0juli Int32 1024 8 8 20487.0chip Int32 256 4 4 42045.0juli Int32 256 4 4 1692.0chip Int32 64 2 2 38615.0juli Int32 64 2 2 336.0765765765766chip Int32 512 8 8 23428.0juli Int32 512 8 8 3786.75chip Int32 128 4 4 18717.0juli Int32 128 4 4 688.0326797385621chip Int32 32 2 2 19788.0juli Int32 32 2 2 170.83428571428573chip Int32 256 8 8 16077.0juli Int32 256 8 8 1675.9chip Int32 64 4 4 12671.0juli Int32 64 4 4 319.1525423728813chip Int32 16 2 2 12064.0juli Int32 16 2 2 110.62679955703211chip Int32 128 8 8 11845.0juli Int32 128 8 8 694.3525641025641chip Int32 32 4 4 10792.0juli Int32 32 4 4 172.865chip Int32 8 2 2 11174.0juli Int32 8 2 2 61.907120743034056chip Int32 1024 8 8 68140.0chip Int32 1024 8 8 68140.0juli Int32 1024 8 8 20487.0juli Int32 1024 8 8 20487.0chip Int32 256 4 4 42045.0chip Int32 256 4 4 42045.0juli Int32 256 4 4 1692.0juli Int32 256 4 4 1692.0chip Int32 64 2 2 38615.0chip Int32 64 2 2 38615.0juli Int32 64 2 2 336.0765765765766juli Int32 64 2 2 336.0765765765766chip Int32 512 8 8 23428.0chip Int32 512 8 8 23428.0juli Int32 512 8 8 3786.75juli Int32 512 8 8 3786.75chip Int32 128 4 4 18717.0chip Int32 128 4 4 18717.0juli Int32 128 4 4 688.0326797385621juli Int32 128 4 4 688.0326797385621chip Int32 32 2 2 19788.0chip Int32 32 2 2 19788.0juli Int32 32 2 2 170.83428571428573juli Int32 32 2 2 170.83428571428573chip Int32 256 8 8 16077.0chip Int32 256 8 8 16077.0juli Int32 256 8 8 1675.9juli Int32 256 8 8 1675.9chip Int32 64 4 4 12671.0chip Int32 64 4 4 12671.0juli Int32 64 4 4 319.1525423728813juli Int32 64 4 4 319.1525423728813chip Int32 16 2 2 12064.0chip Int32 16 2 2 12064.0juli Int32 16 2 2 110.62679955703211juli Int32 16 2 2 110.62679955703211chip Int32 128 8 8 11845.0chip Int32 128 8 8 11845.0juli Int32 128 8 8 694.3525641025641juli Int32 128 8 8 694.3525641025641chip Int32 32 4 4 10792.0chip Int32 32 4 4 10792.0juli Int32 32 4 4 172.865juli Int32 32 4 4 172.865chip Int32 8 2 2 11174.0chip Int32 8 2 2 11174.0juli Int32 8 2 2 61.907120743034056juli Int32 8 2 2 61.907120743034056"
     ]
    }
   ],
   "source": [
    "struct ExpRun\n",
    "    code\n",
    "    eltype\n",
    "    data_size\n",
    "    vec_size\n",
    "    vec_count\n",
    "    bench\n",
    "end\n",
    "\n",
    "function Base.show(io::IO, ee::ExpRun)\n",
    "    print(ee.code, \" \")\n",
    "    print(ee.eltype, \" \")\n",
    "    print(ee.data_size, \" \")\n",
    "    print(ee.vec_size, \" \")\n",
    "    print(ee.vec_count, \" \")\n",
    "    print(ee.bench.times[div(end,2)])\n",
    "end\n",
    "\n",
    "@unroll function run_tests(cc, nn)\n",
    "    exps = ExpRun[]\n",
    "    T = Int32\n",
    "    \n",
    "    @unroll for c in cc\n",
    "        @unroll for n in nn\n",
    "            tt = run_bench_mine(T, Val(c), Val(n), Val(n))\n",
    "            ee = ExpRun(:chip, T, c*n*n, n, n, tt)\n",
    "            println(ee)\n",
    "            push!(exps, ee)\n",
    "            tt = run_bench_base(T, Val(c), Val(n), Val(n))\n",
    "            ee = ExpRun(:juli, T, c*n*n, n, n, tt)\n",
    "            println(ee)\n",
    "            push!(exps, ee)\n",
    "        end\n",
    "    end\n",
    "    exps\n",
    "end\n",
    "\n",
    "C = (16,8,4,2)\n",
    "N = (8,4,2)\n",
    "\n",
    "data = run_tests(C, N)"
   ]
  },
  {
   "cell_type": "code",
   "execution_count": 7,
   "metadata": {},
   "outputs": [],
   "source": [
    "# using Profile\n",
    "# Profile.init(delay = 0.0001)\n",
    "# function run_many(data,n)\n",
    "#     for i in 1:n\n",
    "#         chipsort_medium(data, Val(8), Val(8)) \n",
    "#     end\n",
    "# end\n",
    "\n",
    "# data = rand(Int32, 2^10)\n",
    "# @profile run_many(data, 1)"
   ]
  },
  {
   "cell_type": "code",
   "execution_count": null,
   "metadata": {},
   "outputs": [],
   "source": [
    "\n"
   ]
  }
 ],
 "metadata": {
  "@webio": {
   "lastCommId": "34a9d113833141938856426f45000a4f",
   "lastKernelId": "83291456-1fc6-4a18-b61e-b5205ee494b0"
  },
  "kernelspec": {
   "display_name": "Julia 1.2.0-DEV",
   "language": "julia",
   "name": "julia-1.2"
  },
  "language_info": {
   "file_extension": ".jl",
   "mimetype": "application/julia",
   "name": "julia",
   "version": "1.2.0"
  }
 },
 "nbformat": 4,
 "nbformat_minor": 2
}
