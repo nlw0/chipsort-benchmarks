{
 "cells": [
  {
   "cell_type": "code",
   "execution_count": 1,
   "metadata": {},
   "outputs": [],
   "source": [
    "using BenchmarkTools\n",
    "using Unrolled\n",
    "\n",
    "using SIMD\n",
    "\n",
    "using ChipSort"
   ]
  },
  {
   "cell_type": "code",
   "execution_count": 2,
   "metadata": {},
   "outputs": [
    {
     "data": {
      "text/plain": [
       "run_bench_base (generic function with 1 method)"
      ]
     },
     "execution_count": 2,
     "metadata": {},
     "output_type": "execute_result"
    }
   ],
   "source": [
    "function run_bench_mine(T, chunks, ::Val{N}, ::Val{L}) where {N, L}\n",
    "    data = rand(T, chunks*N*L)\n",
    "    stat = @benchmark chipsort_medium($data, Val($N), Val($L))\n",
    "    stat\n",
    "end\n",
    "\n",
    "function run_bench_base(T, chunks, ::Val{N}, ::Val{L}) where {N, L}\n",
    "    data = rand(T, chunks*N*L)\n",
    "    stat = @benchmark sort($data)\n",
    "    stat\n",
    "end"
   ]
  },
  {
   "cell_type": "code",
   "execution_count": null,
   "metadata": {},
   "outputs": [
    {
     "name": "stdout",
     "output_type": "stream",
     "text": [
      "chip Float32 16 8 8 76357.0\n",
      "juli Float32 16 8 8 22693.0\n",
      "chip Float32 16 8 4 59674.0\n",
      "juli Float32 16 8 4 4786.571428571428\n",
      "chip Float32 16 8 2 50635.0\n",
      "juli Float32 16 8 2 2089.3\n",
      "chip Float32 16 4 8 57263.0\n",
      "juli Float32 16 4 8 4233.857142857143\n",
      "chip Float32 16 4 4 56887.0\n",
      "juli Float32 16 4 4 2259.4\n",
      "chip Float32 16 4 2 48469.0\n",
      "juli Float32 16 4 2 837.671052631579\n",
      "chip Float32 16 2 8 56035.0\n",
      "juli Float32 16 2 8 2187.4\n",
      "chip Float32 16 2 4 49446.0\n",
      "juli Float32 16 2 4 834.746835443038\n",
      "chip Float32 16 2 2 47857.0\n",
      "juli Float32 16 2 2 383.1527093596059\n",
      "chip Float32 8 8 8 30589.0\n",
      "juli Float32 8 8 8 4234.571428571428\n",
      "chip Float32 8 8 4 25303.0\n",
      "juli Float32 8 8 4 2137.6\n",
      "chip Float32 8 8 2 23791.0\n",
      "juli Float32 8 8 2 820.547619047619\n",
      "chip Float32 8 4 8 23868.0\n",
      "juli Float32 8 4 8 2107.7\n",
      "chip Float32 8 4 4 23026.0\n",
      "juli Float32 8 4 4 856.7727272727273\n",
      "chip Float32 8 4 2 26935.0\n",
      "juli Float32 8 4 2 377.4166666666667\n",
      "chip Float32 8 2 8 23763.0\n",
      "juli Float32 8 2 8 857.955223880597\n",
      "chip Float32 8 2 4 26923.0\n",
      "juli Float32 8 2 4 378.3414634146341\n",
      "chip Float32 8 2 2 26815.0\n",
      "juli Float32 8 2 2 194.51833333333335\n",
      "chip Float32 4 8 8 16297.0\n",
      "juli Float32 4 8 8 2077.9\n"
     ]
    }
   ],
   "source": [
    "struct ExpRun\n",
    "    code\n",
    "    eltype\n",
    "    data_size\n",
    "    vec_size\n",
    "    vec_count\n",
    "    bench\n",
    "end\n",
    "\n",
    "function Base.show(io::IO, ee::ExpRun)\n",
    "    print(ee.code, \" \")\n",
    "    print(ee.eltype, \" \")\n",
    "    print(ee.data_size, \" \")\n",
    "    print(ee.vec_size, \" \")\n",
    "    print(ee.vec_count, \" \")\n",
    "    print(ee.bench.times[div(end,2)])\n",
    "end\n",
    "\n",
    "@unroll function run_tests(data_size, nn, ll)\n",
    "    exps = ExpRun[]\n",
    "    T = Float32\n",
    "    \n",
    "    @unroll for cs in data_size\n",
    "    @unroll for n in nn\n",
    "        @unroll for l in ll\n",
    "            tt = run_bench_mine(T, cs, Val(n), Val(l))\n",
    "            ee = ExpRun(:chip, T, cs, n, l, tt)\n",
    "            println(ee)\n",
    "            push!(exps, ee)\n",
    "            tt = run_bench_base(T, cs, Val(n), Val(l))\n",
    "            ee = ExpRun(:juli, T, cs, n, l, tt)\n",
    "            println(ee)\n",
    "            push!(exps, ee)\n",
    "        end\n",
    "    end\n",
    "    end\n",
    "    exps\n",
    "end\n",
    "\n",
    "chunk_sizes = (16,8,4,2)\n",
    "N = (8,4,2)\n",
    "L = (8,4,2)\n",
    "\n",
    "data = run_tests(chunk_sizes, N, L)"
   ]
  },
  {
   "cell_type": "code",
   "execution_count": null,
   "metadata": {},
   "outputs": [],
   "source": []
  },
  {
   "cell_type": "code",
   "execution_count": null,
   "metadata": {},
   "outputs": [],
   "source": []
  },
  {
   "cell_type": "code",
   "execution_count": null,
   "metadata": {},
   "outputs": [],
   "source": []
  }
 ],
 "metadata": {
  "@webio": {
   "lastCommId": "87eb33fb2799476bbd8d4797d8329831",
   "lastKernelId": "e8fbb640-31aa-4722-874f-615adc24870c"
  },
  "kernelspec": {
   "display_name": "Julia 1.2.0-DEV",
   "language": "julia",
   "name": "julia-1.2"
  },
  "language_info": {
   "file_extension": ".jl",
   "mimetype": "application/julia",
   "name": "julia",
   "version": "1.2.0"
  }
 },
 "nbformat": 4,
 "nbformat_minor": 2
}
