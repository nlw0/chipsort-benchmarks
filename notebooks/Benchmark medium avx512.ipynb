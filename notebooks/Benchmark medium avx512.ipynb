{
 "cells": [
  {
   "cell_type": "code",
   "execution_count": 9,
   "metadata": {},
   "outputs": [
    {
     "data": {
      "text/plain": [
       "BenchmarkTools.Trial: \n",
       "  memory estimate:  16.13 KiB\n",
       "  allocs estimate:  1\n",
       "  --------------\n",
       "  minimum time:     157.978 μs (0.00% GC)\n",
       "  median time:      162.403 μs (0.00% GC)\n",
       "  mean time:        162.827 μs (0.00% GC)\n",
       "  maximum time:     252.078 μs (0.00% GC)\n",
       "  --------------\n",
       "  samples:          10000\n",
       "  evals/sample:     1"
      ]
     },
     "metadata": {},
     "output_type": "display_data"
    },
    {
     "data": {
      "text/plain": [
       "BenchmarkTools.Trial: \n",
       "  memory estimate:  265.22 KiB\n",
       "  allocs estimate:  3483\n",
       "  --------------\n",
       "  minimum time:     97.679 μs (0.00% GC)\n",
       "  median time:      104.222 μs (0.00% GC)\n",
       "  mean time:        135.708 μs (20.77% GC)\n",
       "  maximum time:     2.680 ms (96.03% GC)\n",
       "  --------------\n",
       "  samples:          10000\n",
       "  evals/sample:     1"
      ]
     },
     "metadata": {},
     "output_type": "display_data"
    }
   ],
   "source": [
    "using SIMD\n",
    "\n",
    "using BenchmarkTools\n",
    "\n",
    "using Revise\n",
    "using ChipSort\n",
    "\n",
    "\n",
    "function base(data)\n",
    "    for d in length(data)\n",
    "        sort(data[d])\n",
    "    end\n",
    "end\n",
    "\n",
    "function mine(data)\n",
    "    for d in length(data)\n",
    "        chipsort_medium(data[d], Val(8), Val(8), Val(64))\n",
    "    end\n",
    "end\n",
    "\n",
    "T=Int32\n",
    "data = [rand(T, 64*64) for _ in 1:1000]\n",
    "\n",
    "base(data) == mine(data)\n",
    "\n",
    "display(@benchmark base($data))\n",
    "display(@benchmark mine($data))"
   ]
  },
  {
   "cell_type": "code",
   "execution_count": 5,
   "metadata": {},
   "outputs": [
    {
     "data": {
      "text/plain": [
       "BenchmarkTools.Trial: \n",
       "  memory estimate:  325.36 KiB\n",
       "  allocs estimate:  5688\n",
       "  --------------\n",
       "  minimum time:     184.929 μs (0.00% GC)\n",
       "  median time:      192.006 μs (0.00% GC)\n",
       "  mean time:        228.801 μs (14.57% GC)\n",
       "  maximum time:     2.704 ms (91.19% GC)\n",
       "  --------------\n",
       "  samples:          10000\n",
       "  evals/sample:     1"
      ]
     },
     "metadata": {},
     "output_type": "display_data"
    }
   ],
   "source": [
    "function mine512(data)\n",
    "    for d in length(data)\n",
    "        chipsort_medium(data[d], Val(16), Val(8), Val(32))\n",
    "    end\n",
    "end\n",
    "\n",
    "display(@benchmark mine512($data))"
   ]
  },
  {
   "cell_type": "code",
   "execution_count": 10,
   "metadata": {},
   "outputs": [
    {
     "data": {
      "text/plain": [
       "BenchmarkTools.Trial: \n",
       "  memory estimate:  364.95 KiB\n",
       "  allocs estimate:  7576\n",
       "  --------------\n",
       "  minimum time:     230.546 μs (0.00% GC)\n",
       "  median time:      238.575 μs (0.00% GC)\n",
       "  mean time:        294.360 μs (17.38% GC)\n",
       "  maximum time:     3.583 ms (91.08% GC)\n",
       "  --------------\n",
       "  samples:          10000\n",
       "  evals/sample:     1"
      ]
     },
     "metadata": {},
     "output_type": "display_data"
    }
   ],
   "source": [
    "function mine512(data)\n",
    "    for d in length(data)\n",
    "        chipsort_medium(data[d], Val(8), Val(16), Val(32))\n",
    "    end\n",
    "end\n",
    "\n",
    "display(@benchmark mine512($data))"
   ]
  },
  {
   "cell_type": "code",
   "execution_count": 11,
   "metadata": {},
   "outputs": [
    {
     "data": {
      "text/plain": [
       "BenchmarkTools.Trial: \n",
       "  memory estimate:  355.28 KiB\n",
       "  allocs estimate:  9781\n",
       "  --------------\n",
       "  minimum time:     298.644 μs (0.00% GC)\n",
       "  median time:      308.488 μs (0.00% GC)\n",
       "  mean time:        363.834 μs (14.25% GC)\n",
       "  maximum time:     3.842 ms (87.57% GC)\n",
       "  --------------\n",
       "  samples:          10000\n",
       "  evals/sample:     1"
      ]
     },
     "metadata": {},
     "output_type": "display_data"
    }
   ],
   "source": [
    "function mine512(data)\n",
    "    for d in length(data)\n",
    "        chipsort_medium(data[d], Val(16), Val(16), Val(16))\n",
    "    end\n",
    "end\n",
    "\n",
    "display(@benchmark mine512($data))"
   ]
  },
  {
   "cell_type": "code",
   "execution_count": null,
   "metadata": {},
   "outputs": [],
   "source": [
    "function mine512(data)\n",
    "    for d in length(data)\n",
    "        chipsort_medium(data[d], Val(4), Val(4), Val(256))\n",
    "    end\n",
    "end\n",
    "\n",
    "display(@benchmark mine512($data))"
   ]
  },
  {
   "cell_type": "code",
   "execution_count": null,
   "metadata": {},
   "outputs": [],
   "source": []
  }
 ],
 "metadata": {
  "kernelspec": {
   "display_name": "Julia 1.2.0-DEV",
   "language": "julia",
   "name": "julia-1.2"
  },
  "language_info": {
   "file_extension": ".jl",
   "mimetype": "application/julia",
   "name": "julia",
   "version": "1.2.0"
  }
 },
 "nbformat": 4,
 "nbformat_minor": 2
}
